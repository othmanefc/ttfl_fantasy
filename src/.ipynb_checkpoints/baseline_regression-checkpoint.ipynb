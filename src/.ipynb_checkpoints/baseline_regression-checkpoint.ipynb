{
 "cells": [
  {
   "cell_type": "code",
   "execution_count": 1,
   "metadata": {},
   "outputs": [],
   "source": [
    "import pandas as pd\n",
    "import matplotlib.pyplot as plt\n",
    "import os\n",
    "from sklearn.model_selection import train_test_split, cross_val_score\n",
    "from sklearn.linear_model import LinearRegression\n",
    "from sklearn.metrics import accuracy_score, mean_squared_error, mean_absolute_error\n",
    "from sklearn.preprocessing import MinMaxScaler\n",
    "import numpy as np\n",
    "\n",
    "import xgboost as xgb\n",
    "from sklearn.model_selection import RandomizedSearchCV, GridSearchCV\n",
    "from sklearn.model_selection import StratifiedKFold, KFold\n",
    "from datetime import datetime\n",
    "\n",
    "from feature_engineering import compute_ttfl"
   ]
  },
  {
   "cell_type": "code",
   "execution_count": 2,
   "metadata": {},
   "outputs": [
    {
     "data": {
      "text/html": [
       "<div>\n",
       "<style scoped>\n",
       "    .dataframe tbody tr th:only-of-type {\n",
       "        vertical-align: middle;\n",
       "    }\n",
       "\n",
       "    .dataframe tbody tr th {\n",
       "        vertical-align: top;\n",
       "    }\n",
       "\n",
       "    .dataframe thead th {\n",
       "        text-align: right;\n",
       "    }\n",
       "</style>\n",
       "<table border=\"1\" class=\"dataframe\">\n",
       "  <thead>\n",
       "    <tr style=\"text-align: right;\">\n",
       "      <th></th>\n",
       "      <th>name</th>\n",
       "      <th>date</th>\n",
       "      <th>mp</th>\n",
       "      <th>fg</th>\n",
       "      <th>fga</th>\n",
       "      <th>fg_pct</th>\n",
       "      <th>fg3</th>\n",
       "      <th>fg3a</th>\n",
       "      <th>fg3_pct</th>\n",
       "      <th>ft</th>\n",
       "      <th>...</th>\n",
       "      <th>blk_sn</th>\n",
       "      <th>tov_sn</th>\n",
       "      <th>pf_sn</th>\n",
       "      <th>pts_sn</th>\n",
       "      <th>plus_minus_sn</th>\n",
       "      <th>score_sn</th>\n",
       "      <th>opp_score_sn</th>\n",
       "      <th>last_game</th>\n",
       "      <th>record</th>\n",
       "      <th>opp_record</th>\n",
       "    </tr>\n",
       "  </thead>\n",
       "  <tbody>\n",
       "    <tr>\n",
       "      <td>0</td>\n",
       "      <td>Durant,Kevin</td>\n",
       "      <td>20190126</td>\n",
       "      <td>39</td>\n",
       "      <td>10</td>\n",
       "      <td>23</td>\n",
       "      <td>0.44</td>\n",
       "      <td>1</td>\n",
       "      <td>4</td>\n",
       "      <td>0.25</td>\n",
       "      <td>12</td>\n",
       "      <td>...</td>\n",
       "      <td>30.10</td>\n",
       "      <td>43.37</td>\n",
       "      <td>33.68</td>\n",
       "      <td>85.58</td>\n",
       "      <td>13.82</td>\n",
       "      <td>193.37</td>\n",
       "      <td>230.65</td>\n",
       "      <td>2.0</td>\n",
       "      <td>20</td>\n",
       "      <td>12</td>\n",
       "    </tr>\n",
       "    <tr>\n",
       "      <td>1</td>\n",
       "      <td>Curry,Stephen</td>\n",
       "      <td>20190126</td>\n",
       "      <td>38</td>\n",
       "      <td>7</td>\n",
       "      <td>15</td>\n",
       "      <td>0.47</td>\n",
       "      <td>6</td>\n",
       "      <td>12</td>\n",
       "      <td>0.50</td>\n",
       "      <td>4</td>\n",
       "      <td>...</td>\n",
       "      <td>10.95</td>\n",
       "      <td>30.00</td>\n",
       "      <td>33.80</td>\n",
       "      <td>53.73</td>\n",
       "      <td>14.52</td>\n",
       "      <td>158.13</td>\n",
       "      <td>171.77</td>\n",
       "      <td>2.0</td>\n",
       "      <td>20</td>\n",
       "      <td>12</td>\n",
       "    </tr>\n",
       "    <tr>\n",
       "      <td>2</td>\n",
       "      <td>Thompson,Klay</td>\n",
       "      <td>20190126</td>\n",
       "      <td>34</td>\n",
       "      <td>8</td>\n",
       "      <td>16</td>\n",
       "      <td>0.50</td>\n",
       "      <td>3</td>\n",
       "      <td>8</td>\n",
       "      <td>0.38</td>\n",
       "      <td>2</td>\n",
       "      <td>...</td>\n",
       "      <td>21.24</td>\n",
       "      <td>31.22</td>\n",
       "      <td>43.47</td>\n",
       "      <td>55.71</td>\n",
       "      <td>7.20</td>\n",
       "      <td>193.37</td>\n",
       "      <td>230.65</td>\n",
       "      <td>2.0</td>\n",
       "      <td>20</td>\n",
       "      <td>12</td>\n",
       "    </tr>\n",
       "    <tr>\n",
       "      <td>3</td>\n",
       "      <td>Green,Draymond</td>\n",
       "      <td>20190126</td>\n",
       "      <td>34</td>\n",
       "      <td>1</td>\n",
       "      <td>3</td>\n",
       "      <td>0.33</td>\n",
       "      <td>1</td>\n",
       "      <td>2</td>\n",
       "      <td>0.50</td>\n",
       "      <td>2</td>\n",
       "      <td>...</td>\n",
       "      <td>17.22</td>\n",
       "      <td>27.25</td>\n",
       "      <td>39.88</td>\n",
       "      <td>23.91</td>\n",
       "      <td>11.43</td>\n",
       "      <td>134.93</td>\n",
       "      <td>163.12</td>\n",
       "      <td>2.0</td>\n",
       "      <td>20</td>\n",
       "      <td>12</td>\n",
       "    </tr>\n",
       "    <tr>\n",
       "      <td>4</td>\n",
       "      <td>Cousins,DeMarcus</td>\n",
       "      <td>20190126</td>\n",
       "      <td>23</td>\n",
       "      <td>4</td>\n",
       "      <td>9</td>\n",
       "      <td>0.44</td>\n",
       "      <td>1</td>\n",
       "      <td>2</td>\n",
       "      <td>0.50</td>\n",
       "      <td>6</td>\n",
       "      <td>...</td>\n",
       "      <td>1.73</td>\n",
       "      <td>3.46</td>\n",
       "      <td>3.00</td>\n",
       "      <td>4.26</td>\n",
       "      <td>1.05</td>\n",
       "      <td>19.47</td>\n",
       "      <td>13.09</td>\n",
       "      <td>2.0</td>\n",
       "      <td>20</td>\n",
       "      <td>12</td>\n",
       "    </tr>\n",
       "  </tbody>\n",
       "</table>\n",
       "<p>5 rows × 80 columns</p>\n",
       "</div>"
      ],
      "text/plain": [
       "               name      date  mp  fg  fga  fg_pct  fg3  fg3a  fg3_pct  ft  \\\n",
       "0      Durant,Kevin  20190126  39  10   23    0.44    1     4     0.25  12   \n",
       "1     Curry,Stephen  20190126  38   7   15    0.47    6    12     0.50   4   \n",
       "2     Thompson,Klay  20190126  34   8   16    0.50    3     8     0.38   2   \n",
       "3    Green,Draymond  20190126  34   1    3    0.33    1     2     0.50   2   \n",
       "4  Cousins,DeMarcus  20190126  23   4    9    0.44    1     2     0.50   6   \n",
       "\n",
       "   ...  blk_sn  tov_sn  pf_sn  pts_sn  plus_minus_sn  score_sn  opp_score_sn  \\\n",
       "0  ...   30.10   43.37  33.68   85.58          13.82    193.37        230.65   \n",
       "1  ...   10.95   30.00  33.80   53.73          14.52    158.13        171.77   \n",
       "2  ...   21.24   31.22  43.47   55.71           7.20    193.37        230.65   \n",
       "3  ...   17.22   27.25  39.88   23.91          11.43    134.93        163.12   \n",
       "4  ...    1.73    3.46   3.00    4.26           1.05     19.47         13.09   \n",
       "\n",
       "   last_game  record  opp_record  \n",
       "0        2.0      20          12  \n",
       "1        2.0      20          12  \n",
       "2        2.0      20          12  \n",
       "3        2.0      20          12  \n",
       "4        2.0      20          12  \n",
       "\n",
       "[5 rows x 80 columns]"
      ]
     },
     "execution_count": 2,
     "metadata": {},
     "output_type": "execute_result"
    }
   ],
   "source": [
    "path_data = os.path.join(os.getcwd(), 'data', 'season_2018_cleaned.csv')\n",
    "df = pd.read_csv(path_data)\n",
    "df.head()"
   ]
  },
  {
   "cell_type": "code",
   "execution_count": 33,
   "metadata": {},
   "outputs": [],
   "source": [
    "df['record'] = df.wins - df.losses"
   ]
  },
  {
   "cell_type": "code",
   "execution_count": 34,
   "metadata": {},
   "outputs": [],
   "source": [
    "df_opp = df.copy()[['team', 'wins', 'losses', 'opp', 'date']]\n",
    "df_opp['opp_record'] = df_opp['wins'] - df_opp['losses']\n",
    "df_opp = df_opp.rename(columns={'team': 'opp', 'opp': 'team'})\n",
    "\n",
    "df_opp = df_opp.drop_duplicates(subset=['opp', 'team', 'date', 'opp_record'])\n",
    "df_opp.drop(columns=['wins', 'losses'], inplace=True)\n",
    "df = df.merge(df_opp)\n",
    "df = df.fillna(0)\n",
    "for col in list(df.columns):\n",
    "    col_no_inf = df[df[col] != np.inf][col].max()\n",
    "    df[col] = df[col].replace(np.inf, col_no_inf)\n",
    "    col_no_ninf = df[df[col] != -np.inf][col].min()\n",
    "    df[col] = df[col].replace(-np.inf, col_no_ninf)"
   ]
  },
  {
   "cell_type": "code",
   "execution_count": 35,
   "metadata": {},
   "outputs": [],
   "source": [
    "int_cols = list(df.dtypes[(df.dtypes == int)].index)\n",
    "float_cols = list(df.dtypes[(df.dtypes == float)].index)\n",
    "df[int_cols + float_cols] = df[int_cols + float_cols].round(2)"
   ]
  },
  {
   "cell_type": "code",
   "execution_count": 3,
   "metadata": {},
   "outputs": [],
   "source": [
    "targets = ['fg', 'fga', 'fg3', 'fg3a', 'ft', 'fta', 'orb', 'drb', 'ast', 'stl', 'blk', 'tov', 'pts', ' trb']"
   ]
  },
  {
   "cell_type": "code",
   "execution_count": 4,
   "metadata": {},
   "outputs": [],
   "source": [
    "regressions = {'fg': ['fg_lw', 'fg_pct_lw', 'fg3_lw', 'fg3_pct_lw', 'fga_lw', 'fg3a_lw', 'ft_lw', 'fta_lw', \n",
    "                      'fg_sn', 'fg_pct_sn', 'fg3_sn', 'fg3_pct_sn', 'fga_sn', 'fg3a_sn', 'ft_sn', 'fta_sn', \n",
    "                      'last_game', 'mp_lw', 'mp_sn', 'opp_record', 'record', 'plus_minus_lw', 'plus_minus_sn',\n",
    "                      'pts_lw', 'pts_sn', 'score_lw', 'score_sn', 'orb_lw', 'orb_sn', 'tot_game'],\n",
    "               \n",
    "               'fga': ['fg_lw', 'fg_pct_lw', 'fg3_lw', 'fg3_pct_lw', 'fga_lw', 'fg3a_lw', 'ft_lw', 'fta_lw', \n",
    "                       'fg_sn', 'fg_pct_sn', 'fg3_sn', 'fg3_pct_sn', 'fga_sn', 'fg3a_sn', 'ft_sn', 'fta_sn',\n",
    "                       'last_game', 'mp_lw', 'mp_sn', 'opp_record', 'record', 'plus_minus_lw', 'plus_minus_sn',\n",
    "                       'pts_lw', 'pts_sn', 'score_lw', 'score_sn', 'tot_game'],\n",
    "               \n",
    "               'fg3': ['fg_lw', 'fg_pct_lw', 'fg3_lw', 'fg3_pct_lw', 'fga_lw', 'fg3a_lw', 'ft_lw', 'fta_lw', \n",
    "                      'fg_sn', 'fg_pct_sn', 'fg3_sn', 'fg3_pct_sn', 'fga_sn', 'fg3a_sn', 'ft_sn', 'fta_sn', \n",
    "                      'last_game', 'mp_lw', 'mp_sn', 'opp_record', 'record', 'plus_minus_lw', 'plus_minus_sn',\n",
    "                      'pts_lw', 'pts_sn', 'score_lw', 'score_sn', 'orb_lw', 'orb_sn', 'tot_game'], \n",
    "               \n",
    "               'fg3a': ['fg_lw', 'fg_pct_lw', 'fg3_lw', 'fg3_pct_lw', 'fga_lw', 'fg3a_lw', 'ft_lw', 'fta_lw', \n",
    "                       'fg_sn', 'fg_pct_sn', 'fg3_sn', 'fg3_pct_sn', 'fga_sn', 'fg3a_sn', 'ft_sn', 'fta_sn',\n",
    "                       'last_game', 'mp_lw', 'mp_sn', 'opp_record', 'record', 'plus_minus_lw', 'plus_minus_sn',\n",
    "                       'pts_lw', 'pts_sn', 'score_lw', 'score_sn', 'tot_game'], \n",
    "               \n",
    "               'ft': ['fg_lw', 'fg_pct_lw', 'fg3_lw', 'fg3_pct_lw', 'fga_lw', 'fg3a_lw', 'ft_lw', 'fta_lw', \n",
    "                      'fg_sn', 'fg_pct_sn', 'fg3_sn', 'fg3_pct_sn', 'fga_sn', 'fg3a_sn', 'ft_sn', 'fta_sn', \n",
    "                      'last_game', 'mp_lw', 'mp_sn', 'opp_record', 'record', 'plus_minus_lw', 'plus_minus_sn',\n",
    "                      'pts_lw', 'pts_sn', 'score_lw', 'score_sn', 'orb_lw', 'orb_sn', 'tot_game'], \n",
    "               \n",
    "               'fta': ['fg_lw', 'fg_pct_lw', 'fg3_lw', 'fg3_pct_lw', 'fga_lw', 'fg3a_lw', 'ft_lw', 'fta_lw', \n",
    "                       'fg_sn', 'fg_pct_sn', 'fg3_sn', 'fg3_pct_sn', 'fga_sn', 'fg3a_sn', 'ft_sn', 'fta_sn',\n",
    "                       'last_game', 'mp_lw', 'mp_sn', 'opp_record', 'record', 'plus_minus_lw', 'plus_minus_sn',\n",
    "                       'pts_lw', 'pts_sn', 'score_lw', 'score_sn', 'tot_game'], \n",
    "               'pts': ['fg_lw', 'fg_pct_lw', 'fg3_lw', 'fg3_pct_lw', 'fga_lw', 'fg3a_lw', 'ft_lw', 'fta_lw', \n",
    "                      'fg_sn', 'fg_pct_sn', 'fg3_sn', 'fg3_pct_sn', 'fga_sn', 'fg3a_sn', 'ft_sn', 'fta_sn', \n",
    "                      'last_game', 'mp_lw', 'mp_sn', 'opp_record', 'record', 'plus_minus_lw', 'plus_minus_sn',\n",
    "                      'pts_lw', 'pts_sn', 'score_lw', 'score_sn', 'orb_lw', 'orb_sn', 'tot_game', 'stl_lw', \n",
    "                       'stl_sn'],\n",
    "              'ttfl': ['fg_lw', 'fg_pct_lw', 'fg3_lw', 'fg3_pct_lw', 'fga_lw', 'fg3a_lw', 'ft_lw', 'fta_lw', \n",
    "                      'fg_sn', 'fg_pct_sn', 'fg3_sn', 'fg3_pct_sn', 'fga_sn', 'fg3a_sn', 'ft_sn', 'fta_sn', \n",
    "                      'last_game', 'mp_lw', 'mp_sn', 'opp_record', 'record', 'plus_minus_lw', 'plus_minus_sn',\n",
    "                      'pts_lw', 'pts_sn', 'score_lw', 'score_sn', 'orb_lw', 'orb_sn', 'tot_game', 'stl_lw', \n",
    "                       'stl_sn', 'tov_lw', 'tov_sn', 'drb_lw', 'drb_sn', 'blk_lw', 'blk_sn', 'ast_lw', 'ast_sn'],\n",
    "              'tov': ['tov_sn', 'tov_lw', 'opp_record', 'opp_score_lw', 'pls_minus_sn', 'plus_minus_lw']}"
   ]
  },
  {
   "cell_type": "code",
   "execution_count": 7,
   "metadata": {},
   "outputs": [],
   "source": [
    "not_ttfl_col = not_ttfl_col = list(set(df.columns) - set(targets) - set(['ttfl']))\n",
    "cols = [col for col in list(not_ttfl_col) if \n",
    "        col.endswith('_sn') or col.endswith('lw')] + ['last_game', 'tot_game' , 'opp_record' , 'record']"
   ]
  },
  {
   "cell_type": "code",
   "execution_count": 8,
   "metadata": {},
   "outputs": [],
   "source": [
    "def linear_regression(df, target, varbls):\n",
    "    y = df[target]\n",
    "    X = df[varbls]\n",
    "    X = MinMaxScaler().fit_transform(X)\n",
    "    X_train, X_test, y_train, y_test = train_test_split(X, y, random_state=1337)\n",
    "    \n",
    "    model = LinearRegression()\n",
    "    model.fit(X_train, y_train)\n",
    "    #training_score = model.score(X_train, y_train)\n",
    "    #testing_score = model.score(X_test, y_test)\n",
    "    y_pred = model.predict(X_test)\n",
    "    return y_test, y_pred"
   ]
  },
  {
   "cell_type": "code",
   "execution_count": 23,
   "metadata": {},
   "outputs": [],
   "source": [
    "def linear_regression_ttfl(df, regressions):\n",
    "    reg = {}\n",
    "    for target in targets:\n",
    "        if target != 'ttfl':\n",
    "            reg[target] = linear_regression(df, target, targets)[0]\n",
    "    ttfl_computed = compute_ttfl(reg, missed=False)\n",
    "    return ttfl_computed"
   ]
  },
  {
   "cell_type": "code",
   "execution_count": 9,
   "metadata": {},
   "outputs": [],
   "source": [
    "def cross_val(df, target, varbls):\n",
    "    y = df[target]\n",
    "    X = df[varbls]\n",
    "    model = LinearRegression()\n",
    "    res = cross_val_score(model, X, y, scoring='neg_mean_absolute_error', cv=5,\n",
    "                          verbose=3, n_jobs=3)\n",
    "    print(res)"
   ]
  },
  {
   "cell_type": "code",
   "execution_count": 19,
   "metadata": {},
   "outputs": [
    {
     "name": "stdout",
     "output_type": "stream",
     "text": [
      "fg (2.0728505384308575, 2.070136241517258)\n",
      "fga (3.515939977177071, 3.4946947896636127)\n",
      "fg3 (0.9483091626596274, 0.950303219897758)\n",
      "fg3a (1.796460903179771, 1.7906283465235016)\n",
      "ft (1.5621718614358115, 1.5624715868431267)\n",
      "fta (1.9213142407375123, 1.9226420556513808)\n",
      "pts (5.366494440057399, 5.3618579911576285)\n",
      "ttfl (8.379712492994267, 8.395235056840466)\n"
     ]
    }
   ],
   "source": [
    "res = {}\n",
    "for target, varbls in regressions.items():\n",
    "    reg = linear_regression(df, target, varbls)\n",
    "    reg2 = linear_regression(df, target, cols)\n",
    "    res[target] = np.sqrt(mean_absolute_error(reg[0], reg[1]), mean_absolute_error(reg2[0], reg2[1])\n",
    "    print(target, res[target])"
   ]
  },
  {
   "cell_type": "code",
   "execution_count": 5,
   "metadata": {},
   "outputs": [],
   "source": [
    "def xgb_cv(df, target, varbls):\n",
    "    y = df[target]\n",
    "    X = df[varbls]\n",
    "    X_train, X_test, y_train, y_test = train_test_split(X, y, random_state=1337)\n",
    "    params = {\n",
    "            'min_child_weight': [1, 3, 5],\n",
    "            'gamma': [0.1, 0.2, 0.3, 0.4, 0.5],\n",
    "            'subsample': [0.5, 0.55, 0.6],\n",
    "            'colsample_bytree': [0.4, 0.5, 0.6],\n",
    "            'max_depth': [3, 4, 5],\n",
    "            'reg_alpha': [0.25, 0.5, 0.75, 1.0, 1.25],\n",
    "            'reg_lambda': [0.8, 0.85, 0.9],\n",
    "            'learning_rate': [0.1, 0.15, 0.2]\n",
    "            }\n",
    "\n",
    "    xgb_reg = xgb.XGBRegressor(objective = 'reg:squarederror',\n",
    "                               n_estimators = 200)\n",
    "    folds = 5\n",
    "    param_comb = 10\n",
    "\n",
    "    skf = KFold(n_splits=folds, shuffle = True, random_state = 1001)\n",
    "\n",
    "    random_search = RandomizedSearchCV(xgb_reg, param_distributions=params, \n",
    "                                       n_iter=param_comb, scoring='neg_median_absolute_error',\n",
    "                                       n_jobs=4, cv=skf.split(X_train,y_train), \n",
    "                                       verbose=3, random_state=1001)\n",
    "\n",
    "    # Here we go\n",
    "    # timing starts from this point for \"start_time\" variable\n",
    "    random_search.fit(X_train, y_train)\n",
    "    # timing ends here for \"start_time\" variable\n",
    "    preds = random_search.predict(X_test)\n",
    "    mae = (mean_absolute_error(y_test, preds))\n",
    "    bp = random_search.best_params_\n",
    "    \n",
    "    return mae, bp"
   ]
  },
  {
   "cell_type": "code",
   "execution_count": 8,
   "metadata": {},
   "outputs": [
    {
     "name": "stdout",
     "output_type": "stream",
     "text": [
      "Fitting 5 folds for each of 10 candidates, totalling 50 fits\n"
     ]
    },
    {
     "name": "stderr",
     "output_type": "stream",
     "text": [
      "[Parallel(n_jobs=4)]: Using backend LokyBackend with 4 concurrent workers.\n",
      "[Parallel(n_jobs=4)]: Done  24 tasks      | elapsed:  2.2min\n",
      "[Parallel(n_jobs=4)]: Done  50 out of  50 | elapsed:  4.4min finished\n",
      "/usr/local/lib/python3.7/site-packages/xgboost/core.py:587: FutureWarning: Series.base is deprecated and will be removed in a future version\n",
      "  if getattr(data, 'base', None) is not None and \\\n"
     ]
    },
    {
     "ename": "NameError",
     "evalue": "name 'target' is not defined",
     "output_type": "error",
     "traceback": [
      "\u001b[0;31m---------------------------------------------------------------------------\u001b[0m",
      "\u001b[0;31mNameError\u001b[0m                                 Traceback (most recent call last)",
      "\u001b[0;32m<ipython-input-8-6eba6c72579d>\u001b[0m in \u001b[0;36m<module>\u001b[0;34m\u001b[0m\n\u001b[1;32m      1\u001b[0m \u001b[0mres\u001b[0m \u001b[0;34m=\u001b[0m \u001b[0mxgb_cv\u001b[0m\u001b[0;34m(\u001b[0m\u001b[0mdf\u001b[0m\u001b[0;34m,\u001b[0m \u001b[0;34m'ttfl'\u001b[0m\u001b[0;34m,\u001b[0m \u001b[0mcols\u001b[0m\u001b[0;34m)\u001b[0m\u001b[0;34m\u001b[0m\u001b[0;34m\u001b[0m\u001b[0m\n\u001b[0;32m----> 2\u001b[0;31m \u001b[0mprint\u001b[0m\u001b[0;34m(\u001b[0m\u001b[0mtarget\u001b[0m\u001b[0;34m,\u001b[0m \u001b[0mres\u001b[0m\u001b[0;34m)\u001b[0m\u001b[0;34m\u001b[0m\u001b[0;34m\u001b[0m\u001b[0m\n\u001b[0m",
      "\u001b[0;31mNameError\u001b[0m: name 'target' is not defined"
     ]
    }
   ],
   "source": [
    "res = xgb_cv(df, 'ttfl', cols)\n",
    "print(res)"
   ]
  },
  {
   "cell_type": "code",
   "execution_count": 9,
   "metadata": {},
   "outputs": [
    {
     "name": "stderr",
     "output_type": "stream",
     "text": [
      "/usr/local/lib/python3.7/site-packages/xgboost/core.py:587: FutureWarning: Series.base is deprecated and will be removed in a future version\n",
      "  if getattr(data, 'base', None) is not None and \\\n"
     ]
    },
    {
     "name": "stdout",
     "output_type": "stream",
     "text": [
      "[14:08:02] WARNING: src/objective/regression_obj.cu:152: reg:linear is now deprecated in favor of reg:squarederror.\n"
     ]
    },
    {
     "data": {
      "text/plain": [
       "XGBRegressor(base_score=0.5, booster='gbtree', colsample_bylevel=1,\n",
       "             colsample_bynode=1, colsample_bytree=0.6, gamma=0.2,\n",
       "             importance_type='gain', learning_rate=0.1, max_delta_step=0,\n",
       "             max_depth=4, min_child_weight=1, missing=None, n_estimators=2200,\n",
       "             n_jobs=1, nthread=-1, objective='reg:linear', random_state=7,\n",
       "             reg_alpha=0.25, reg_lambda=0.8, scale_pos_weight=1, seed=None,\n",
       "             silent=None, subsample=0.55, verbosity=1)"
      ]
     },
     "execution_count": 9,
     "metadata": {},
     "output_type": "execute_result"
    }
   ],
   "source": [
    "X = df[cols]\n",
    "y = df['ttfl']\n",
    "X_train, X_test, y_train, y_test = train_test_split(X, y, random_state=1337)\n",
    "model_xgb = xgb.XGBRegressor(n_estimators=2200,\n",
    "                             random_state =7, nthread = -1, **res[1])\n",
    "model_xgb.fit(X_train, y_train)"
   ]
  },
  {
   "cell_type": "code",
   "execution_count": 11,
   "metadata": {},
   "outputs": [
    {
     "data": {
      "text/plain": [
       "10.730848342273694"
      ]
     },
     "execution_count": 11,
     "metadata": {},
     "output_type": "execute_result"
    }
   ],
   "source": [
    "preds = model_xgb.predict(X_test)\n",
    "np.sqrt(mean_squared_error(y_test, preds))"
   ]
  },
  {
   "cell_type": "code",
   "execution_count": 244,
   "metadata": {},
   "outputs": [
    {
     "data": {
      "image/png": "[encoded data removed]",
      "text/plain": [
       "<Figure size 1080x720 with 1 Axes>"
      ]
     },
     "metadata": {
      "needs_background": "light"
     },
     "output_type": "display_data"
    }
   ],
   "source": [
    "pd.Series(model_xgb.feature_importances_, index = varbls).sort_values().plot(kind = \"barh\", figsize=(15,10) ,title='Top Features')\n",
    "plt.show()"
   ]
  },
  {
   "cell_type": "code",
   "execution_count": null,
   "metadata": {},
   "outputs": [],
   "source": [
    "class xgb():\n",
    "    def __init__(self):\n",
    "        self"
   ]
  }
 ],
 "metadata": {
  "kernelspec": {
   "display_name": "Python 3",
   "language": "python",
   "name": "python3"
  },
  "language_info": {
   "codemirror_mode": {
    "name": "ipython",
    "version": 3
   },
   "file_extension": ".py",
   "mimetype": "text/x-python",
   "name": "python",
   "nbconvert_exporter": "python",
   "pygments_lexer": "ipython3",
   "version": "3.7.4"
  }
 },
 "nbformat": 4,
 "nbformat_minor": 4
}
