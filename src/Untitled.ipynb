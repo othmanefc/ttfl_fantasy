{
 "cells": [
  {
   "cell_type": "code",
   "execution_count": 1,
   "metadata": {},
   "outputs": [],
   "source": [
    "import datetime\n",
    "from bs4 import BeautifulSoup\n",
    "from urllib.request import urlopen"
   ]
  },
  {
   "cell_type": "code",
   "execution_count": 2,
   "metadata": {},
   "outputs": [],
   "source": [
    "month = datetime.datetime.strptime('20191130', '%Y%m%d').strftime('%B')\n",
    "url_games = f'https://www.basketball-reference.com/leagues/NBA_2020_games-{month.lower()}.html'\n",
    "soup = BeautifulSoup(urlopen(url_games), 'lxml')"
   ]
  },
  {
   "cell_type": "code",
   "execution_count": 14,
   "metadata": {},
   "outputs": [],
   "source": [
    "games = soup.find_all('tr')"
   ]
  },
  {
   "cell_type": "code",
   "execution_count": 12,
   "metadata": {},
   "outputs": [
    {
     "data": {
      "text/plain": [
       "[<a href=\"/boxscores/index.fcgi?month=11&amp;day=1&amp;year=2019\">Fri, Nov 1, 2019</a>]"
      ]
     },
     "execution_count": 12,
     "metadata": {},
     "output_type": "execute_result"
    }
   ],
   "source": [
    "games[0].contents"
   ]
  },
  {
   "cell_type": "code",
   "execution_count": 26,
   "metadata": {},
   "outputs": [
    {
     "data": {
      "text/plain": [
       "False"
      ]
     },
     "execution_count": 26,
     "metadata": {},
     "output_type": "execute_result"
    }
   ],
   "source": [
    "games[1].find('th')['csk'].startswith('20191130')"
   ]
  },
  {
   "cell_type": "code",
   "execution_count": 23,
   "metadata": {},
   "outputs": [
    {
     "data": {
      "text/plain": [
       "[<td class=\"right\" data-stat=\"game_start_time\">7:00p</td>,\n",
       " <td class=\"left\" csk=\"HOU.201911010BRK\" data-stat=\"visitor_team_name\"><a href=\"/teams/HOU/2020.html\">Houston Rockets</a></td>,\n",
       " <td class=\"right\" data-stat=\"visitor_pts\">116</td>,\n",
       " <td class=\"left\" csk=\"BRK.201911010BRK\" data-stat=\"home_team_name\"><a href=\"/teams/BRK/2020.html\">Brooklyn Nets</a></td>,\n",
       " <td class=\"right\" data-stat=\"home_pts\">123</td>,\n",
       " <td class=\"center\" data-stat=\"box_score_text\"><a href=\"/boxscores/201911010BRK.html\">Box Score</a></td>,\n",
       " <td class=\"center iz\" data-stat=\"overtimes\"></td>,\n",
       " <td class=\"right\" data-stat=\"attendance\">17,732</td>,\n",
       " <td class=\"left iz\" data-stat=\"game_remarks\"></td>]"
      ]
     },
     "execution_count": 23,
     "metadata": {},
     "output_type": "execute_result"
    }
   ],
   "source": [
    "re.games[1].find_all('td')"
   ]
  },
  {
   "cell_type": "code",
   "execution_count": 69,
   "metadata": {},
   "outputs": [],
   "source": [
    "match_ups = []\n",
    "for game in games:\n",
    "    try:\n",
    "        check_date = game.find('th')['csk'].startswith('20191130')\n",
    "    except:\n",
    "        continue\n",
    "    if check_date:\n",
    "        visitor = game.find('td', {\"data-stat\": 'visitor_team_name'}).find('a')['href'][7:10]\n",
    "        home = game.find('td', {\"data-stat\": 'home_team_name'}).find('a')['href'][7:10]\n",
    "        match_ups.append({\"home\": home, \"visitor\": visitor})\n",
    "        "
   ]
  },
  {
   "cell_type": "code",
   "execution_count": 70,
   "metadata": {},
   "outputs": [
    {
     "data": {
      "text/plain": [
       "[{'home': 'SAC', 'visitor': 'DEN'},\n",
       " {'home': 'PHI', 'visitor': 'IND'},\n",
       " {'home': 'HOU', 'visitor': 'ATL'},\n",
       " {'home': 'MIL', 'visitor': 'CHO'}]"
      ]
     },
     "execution_count": 70,
     "metadata": {},
     "output_type": "execute_result"
    }
   ],
   "source": [
    "match_ups"
   ]
  },
  {
   "cell_type": "code",
   "execution_count": null,
   "metadata": {},
   "outputs": [],
   "source": []
  }
 ],
 "metadata": {
  "kernelspec": {
   "display_name": "Python 3",
   "language": "python",
   "name": "python3"
  },
  "language_info": {
   "codemirror_mode": {
    "name": "ipython",
    "version": 3
   },
   "file_extension": ".py",
   "mimetype": "text/x-python",
   "name": "python",
   "nbconvert_exporter": "python",
   "pygments_lexer": "ipython3",
   "version": "3.7.4"
  }
 },
 "nbformat": 4,
 "nbformat_minor": 4
}
