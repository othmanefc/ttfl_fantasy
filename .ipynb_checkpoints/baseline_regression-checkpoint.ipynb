{
 "cells": [
  {
   "cell_type": "code",
   "execution_count": 243,
   "metadata": {},
   "outputs": [],
   "source": [
    "import pandas as pd\n",
    "import matplotlib.pyplot as plt\n",
    "import os\n",
    "from sklearn.model_selection import train_test_split, cross_val_score\n",
    "from sklearn.linear_model import LinearRegression\n",
    "from sklearn.metrics import accuracy_score, mean_squared_error, mean_absolute_error\n",
    "from sklearn.preprocessing import MinMaxScaler\n",
    "import numpy as np\n",
    "\n",
    "import xgboost as xgb\n",
    "from sklearn.model_selection import RandomizedSearchCV, GridSearchCV\n",
    "from sklearn.model_selection import StratifiedKFold, KFold\n",
    "from datetime import datetime"
   ]
  },
  {
   "cell_type": "code",
   "execution_count": 145,
   "metadata": {},
   "outputs": [
    {
     "data": {
      "text/html": [
       "<div>\n",
       "<style scoped>\n",
       "    .dataframe tbody tr th:only-of-type {\n",
       "        vertical-align: middle;\n",
       "    }\n",
       "\n",
       "    .dataframe tbody tr th {\n",
       "        vertical-align: top;\n",
       "    }\n",
       "\n",
       "    .dataframe thead th {\n",
       "        text-align: right;\n",
       "    }\n",
       "</style>\n",
       "<table border=\"1\" class=\"dataframe\">\n",
       "  <thead>\n",
       "    <tr style=\"text-align: right;\">\n",
       "      <th></th>\n",
       "      <th>name</th>\n",
       "      <th>date</th>\n",
       "      <th>mp</th>\n",
       "      <th>fg</th>\n",
       "      <th>fga</th>\n",
       "      <th>fg_pct</th>\n",
       "      <th>fg3</th>\n",
       "      <th>fg3a</th>\n",
       "      <th>fg3_pct</th>\n",
       "      <th>ft</th>\n",
       "      <th>...</th>\n",
       "      <th>ast_sn</th>\n",
       "      <th>stl_sn</th>\n",
       "      <th>blk_sn</th>\n",
       "      <th>tov_sn</th>\n",
       "      <th>pf_sn</th>\n",
       "      <th>pts_sn</th>\n",
       "      <th>plus_minus_sn</th>\n",
       "      <th>score_sn</th>\n",
       "      <th>opp_score_sn</th>\n",
       "      <th>last_game</th>\n",
       "    </tr>\n",
       "  </thead>\n",
       "  <tbody>\n",
       "    <tr>\n",
       "      <td>0</td>\n",
       "      <td>Durant,Kevin</td>\n",
       "      <td>20190126</td>\n",
       "      <td>39</td>\n",
       "      <td>10</td>\n",
       "      <td>23</td>\n",
       "      <td>0.435</td>\n",
       "      <td>1</td>\n",
       "      <td>4</td>\n",
       "      <td>0.250</td>\n",
       "      <td>12</td>\n",
       "      <td>...</td>\n",
       "      <td>63.030691</td>\n",
       "      <td>24.852451</td>\n",
       "      <td>30.101468</td>\n",
       "      <td>43.374027</td>\n",
       "      <td>33.681352</td>\n",
       "      <td>85.579430</td>\n",
       "      <td>13.815851</td>\n",
       "      <td>193.368778</td>\n",
       "      <td>230.653532</td>\n",
       "      <td>2.0</td>\n",
       "    </tr>\n",
       "    <tr>\n",
       "      <td>1</td>\n",
       "      <td>Curry,Stephen</td>\n",
       "      <td>20190126</td>\n",
       "      <td>38</td>\n",
       "      <td>7</td>\n",
       "      <td>15</td>\n",
       "      <td>0.467</td>\n",
       "      <td>6</td>\n",
       "      <td>12</td>\n",
       "      <td>0.500</td>\n",
       "      <td>4</td>\n",
       "      <td>...</td>\n",
       "      <td>35.260849</td>\n",
       "      <td>26.050316</td>\n",
       "      <td>10.953444</td>\n",
       "      <td>30.004764</td>\n",
       "      <td>33.803981</td>\n",
       "      <td>53.726221</td>\n",
       "      <td>14.524742</td>\n",
       "      <td>158.133469</td>\n",
       "      <td>171.774541</td>\n",
       "      <td>2.0</td>\n",
       "    </tr>\n",
       "    <tr>\n",
       "      <td>2</td>\n",
       "      <td>Thompson,Klay</td>\n",
       "      <td>20190126</td>\n",
       "      <td>34</td>\n",
       "      <td>8</td>\n",
       "      <td>16</td>\n",
       "      <td>0.500</td>\n",
       "      <td>3</td>\n",
       "      <td>8</td>\n",
       "      <td>0.375</td>\n",
       "      <td>2</td>\n",
       "      <td>...</td>\n",
       "      <td>33.606713</td>\n",
       "      <td>26.587426</td>\n",
       "      <td>21.241469</td>\n",
       "      <td>31.219455</td>\n",
       "      <td>43.466307</td>\n",
       "      <td>55.706152</td>\n",
       "      <td>7.196556</td>\n",
       "      <td>193.368778</td>\n",
       "      <td>230.653532</td>\n",
       "      <td>2.0</td>\n",
       "    </tr>\n",
       "    <tr>\n",
       "      <td>3</td>\n",
       "      <td>Green,Draymond</td>\n",
       "      <td>20190126</td>\n",
       "      <td>34</td>\n",
       "      <td>1</td>\n",
       "      <td>3</td>\n",
       "      <td>0.333</td>\n",
       "      <td>1</td>\n",
       "      <td>2</td>\n",
       "      <td>0.500</td>\n",
       "      <td>2</td>\n",
       "      <td>...</td>\n",
       "      <td>38.684869</td>\n",
       "      <td>18.972275</td>\n",
       "      <td>17.220517</td>\n",
       "      <td>27.246021</td>\n",
       "      <td>39.883374</td>\n",
       "      <td>23.908151</td>\n",
       "      <td>11.428294</td>\n",
       "      <td>134.933920</td>\n",
       "      <td>163.123743</td>\n",
       "      <td>2.0</td>\n",
       "    </tr>\n",
       "    <tr>\n",
       "      <td>4</td>\n",
       "      <td>Cousins,DeMarcus</td>\n",
       "      <td>20190126</td>\n",
       "      <td>23</td>\n",
       "      <td>4</td>\n",
       "      <td>9</td>\n",
       "      <td>0.444</td>\n",
       "      <td>1</td>\n",
       "      <td>2</td>\n",
       "      <td>0.500</td>\n",
       "      <td>6</td>\n",
       "      <td>...</td>\n",
       "      <td>4.763140</td>\n",
       "      <td>0.866025</td>\n",
       "      <td>1.732051</td>\n",
       "      <td>3.464102</td>\n",
       "      <td>3.000000</td>\n",
       "      <td>4.255249</td>\n",
       "      <td>1.046797</td>\n",
       "      <td>19.467539</td>\n",
       "      <td>13.085040</td>\n",
       "      <td>2.0</td>\n",
       "    </tr>\n",
       "  </tbody>\n",
       "</table>\n",
       "<p>5 rows × 78 columns</p>\n",
       "</div>"
      ],
      "text/plain": [
       "               name      date  mp  fg  fga  fg_pct  fg3  fg3a  fg3_pct  ft  \\\n",
       "0      Durant,Kevin  20190126  39  10   23   0.435    1     4    0.250  12   \n",
       "1     Curry,Stephen  20190126  38   7   15   0.467    6    12    0.500   4   \n",
       "2     Thompson,Klay  20190126  34   8   16   0.500    3     8    0.375   2   \n",
       "3    Green,Draymond  20190126  34   1    3   0.333    1     2    0.500   2   \n",
       "4  Cousins,DeMarcus  20190126  23   4    9   0.444    1     2    0.500   6   \n",
       "\n",
       "   ...     ast_sn     stl_sn     blk_sn     tov_sn      pf_sn     pts_sn  \\\n",
       "0  ...  63.030691  24.852451  30.101468  43.374027  33.681352  85.579430   \n",
       "1  ...  35.260849  26.050316  10.953444  30.004764  33.803981  53.726221   \n",
       "2  ...  33.606713  26.587426  21.241469  31.219455  43.466307  55.706152   \n",
       "3  ...  38.684869  18.972275  17.220517  27.246021  39.883374  23.908151   \n",
       "4  ...   4.763140   0.866025   1.732051   3.464102   3.000000   4.255249   \n",
       "\n",
       "   plus_minus_sn    score_sn  opp_score_sn  last_game  \n",
       "0      13.815851  193.368778    230.653532        2.0  \n",
       "1      14.524742  158.133469    171.774541        2.0  \n",
       "2       7.196556  193.368778    230.653532        2.0  \n",
       "3      11.428294  134.933920    163.123743        2.0  \n",
       "4       1.046797   19.467539     13.085040        2.0  \n",
       "\n",
       "[5 rows x 78 columns]"
      ]
     },
     "execution_count": 145,
     "metadata": {},
     "output_type": "execute_result"
    }
   ],
   "source": [
    "path_data = os.path.join(os.getcwd(), 'data', 'season_2018_cleaned.csv')\n",
    "df = pd.read_csv(path_data)\n",
    "df.head()"
   ]
  },
  {
   "cell_type": "code",
   "execution_count": 146,
   "metadata": {},
   "outputs": [],
   "source": [
    "df['record'] = df.wins - df.losses"
   ]
  },
  {
   "cell_type": "code",
   "execution_count": 147,
   "metadata": {
    "collapsed": true,
    "jupyter": {
     "outputs_hidden": true
    }
   },
   "outputs": [
    {
     "name": "stdout",
     "output_type": "stream",
     "text": [
      "Žižić,Ante name\n",
      "20191124 date\n",
      "55 mp\n",
      "21 fg\n",
      "39 fga\n",
      "1.0 fg_pct\n",
      "14 fg3\n",
      "24 fg3a\n",
      "1.0 fg3_pct\n",
      "21 ft\n",
      "27 fta\n",
      "1.0 ft_pct\n",
      "12 orb\n",
      "23 drb\n",
      "0  trb\n",
      "24 ast\n",
      "8 stl\n",
      "9 blk\n",
      "11 tov\n",
      "6 pf\n",
      "61 pts\n",
      "50 plus_minus\n",
      "1 result\n",
      "168 score\n",
      "WAS opp\n",
      "168 opp_score\n",
      "0.0 pts_team\n",
      "WAS team\n",
      "82 ttfl\n",
      "29 team_id\n",
      "59 wins\n",
      "63 losses\n",
      "82 tot_game\n",
      "147.0 mp_lw\n",
      "37.0 fg_lw\n",
      "64.08587988004847 fga_lw\n",
      "1.2725365241706492e+16 fg_pct_lw\n",
      "16.454482671904334 fg3_lw\n",
      "40.70319397786862 fg3a_lw\n",
      "1.2725365241706494e+16 fg3_pct_lw\n",
      "24.248711305964285 ft_lw\n",
      "31.0 fta_lw\n",
      "7358024568928398.0 ft_pct_lw\n",
      "22.516660498395403 orb_lw\n",
      "39.83716857408418 drb_lw\n",
      "0.0  trb_lw\n",
      "41.0 ast_lw\n",
      "14.722431864335455 stl_lw\n",
      "15.0 blk_lw\n",
      "19.0 tov_lw\n",
      "21.0 pf_lw\n",
      "79.67433714816835 pts_lw\n",
      "47.63139720814412 plus_minus_lw\n",
      "312.63517076618234 score_lw\n",
      "342.08003449485324 opp_score_lw\n",
      "344.78549772667304 mp_sn\n",
      "138.60217419091475 fg_sn\n",
      "199.7076541298568 fga_sn\n",
      "5998794703657500.0 fg_pct_sn\n",
      "87.63394387197636 fg3_sn\n",
      "131.55262946770534 fg3a_sn\n",
      "8825216874276941.0 fg3_pct_sn\n",
      "76.21887708277949 ft_sn\n",
      "94.9060088245078 fta_sn\n",
      "5998794703657500.0 ft_pct_sn\n",
      "85.67833149956657 orb_sn\n",
      "120.49912117465703 drb_sn\n",
      "0.0  trb_sn\n",
      "108.43788154786765 ast_sn\n",
      "56.720539500945705 stl_sn\n",
      "62.332228765021966 blk_sn\n",
      "93.3443518526041 tov_sn\n",
      "99.96105298363148 pf_sn\n",
      "142.85648786765591 pts_sn\n",
      "28.43749355142943 plus_minus_sn\n",
      "433.8601873643898 score_sn\n",
      "467.3632175125703 opp_score_sn\n",
      "309.0 last_game\n",
      "39 record\n",
      "39 opp_record\n"
     ]
    }
   ],
   "source": [
    "df_opp = df.copy()[['team', 'wins', 'losses', 'opp', 'date']]\n",
    "df_opp['opp_record'] = df_opp['wins'] - df_opp['losses']\n",
    "df_opp = df_opp.rename(columns={'team': 'opp', 'opp': 'team'})\n",
    "\n",
    "df_opp = df_opp.drop_duplicates(subset=['opp', 'team', 'date', 'opp_record'])\n",
    "df_opp.drop(columns=['wins', 'losses'], inplace=True)\n",
    "df = df.merge(df_opp)\n",
    "df = df.fillna(0)\n",
    "for col in list(df.columns):\n",
    "    col_no_inf = df[df[col] != np.inf][col].max()\n",
    "    df[col] = df[col].replace(np.inf, col_no_inf)\n",
    "    col_no_ninf = df[df[col] != -np.inf][col].min()\n",
    "    df[col] = df[col].replace(-np.inf, col_no_ninf)"
   ]
  },
  {
   "cell_type": "code",
   "execution_count": 148,
   "metadata": {},
   "outputs": [],
   "source": [
    "int_cols = list(df.dtypes[(df.dtypes == int)].index)\n",
    "float_cols = list(df.dtypes[(df.dtypes == float)].index)\n",
    "df[int_cols + float_cols] = df[int_cols + float_cols].round(2)"
   ]
  },
  {
   "cell_type": "code",
   "execution_count": 81,
   "metadata": {},
   "outputs": [],
   "source": [
    "targets = ['fg', 'fga', 'fg3', 'fg3a', 'ft', 'fta', 'orb', 'drb', 'ast', 'stl', 'blk', 'tov', 'pts']"
   ]
  },
  {
   "cell_type": "code",
   "execution_count": 191,
   "metadata": {},
   "outputs": [],
   "source": [
    "regressions = {'fg': ['fg_lw', 'fg_pct_lw', 'fg3_lw', 'fg3_pct_lw', 'fga_lw', 'fg3a_lw', 'ft_lw', 'fta_lw', \n",
    "                      'fg_sn', 'fg_pct_sn', 'fg3_sn', 'fg3_pct_sn', 'fga_sn', 'fg3a_sn', 'ft_sn', 'fta_sn', \n",
    "                      'last_game', 'mp_lw', 'mp_sn', 'opp_record', 'record', 'plus_minus_lw', 'plus_minus_sn',\n",
    "                      'pts_lw', 'pts_sn', 'score_lw', 'score_sn', 'orb_lw', 'orb_sn', 'tot_game'],\n",
    "               \n",
    "               'fga': ['fg_lw', 'fg_pct_lw', 'fg3_lw', 'fg3_pct_lw', 'fga_lw', 'fg3a_lw', 'ft_lw', 'fta_lw', \n",
    "                       'fg_sn', 'fg_pct_sn', 'fg3_sn', 'fg3_pct_sn', 'fga_sn', 'fg3a_sn', 'ft_sn', 'fta_sn',\n",
    "                       'last_game', 'mp_lw', 'mp_sn', 'opp_record', 'record', 'plus_minus_lw', 'plus_minus_sn',\n",
    "                       'pts_lw', 'pts_sn', 'score_lw', 'score_sn', 'tot_game'],\n",
    "               \n",
    "               'fg3': ['fg_lw', 'fg_pct_lw', 'fg3_lw', 'fg3_pct_lw', 'fga_lw', 'fg3a_lw', 'ft_lw', 'fta_lw', \n",
    "                      'fg_sn', 'fg_pct_sn', 'fg3_sn', 'fg3_pct_sn', 'fga_sn', 'fg3a_sn', 'ft_sn', 'fta_sn', \n",
    "                      'last_game', 'mp_lw', 'mp_sn', 'opp_record', 'record', 'plus_minus_lw', 'plus_minus_sn',\n",
    "                      'pts_lw', 'pts_sn', 'score_lw', 'score_sn', 'orb_lw', 'orb_sn', 'tot_game'], \n",
    "               \n",
    "               'fg3a': ['fg_lw', 'fg_pct_lw', 'fg3_lw', 'fg3_pct_lw', 'fga_lw', 'fg3a_lw', 'ft_lw', 'fta_lw', \n",
    "                       'fg_sn', 'fg_pct_sn', 'fg3_sn', 'fg3_pct_sn', 'fga_sn', 'fg3a_sn', 'ft_sn', 'fta_sn',\n",
    "                       'last_game', 'mp_lw', 'mp_sn', 'opp_record', 'record', 'plus_minus_lw', 'plus_minus_sn',\n",
    "                       'pts_lw', 'pts_sn', 'score_lw', 'score_sn', 'tot_game'], \n",
    "               \n",
    "               'ft': ['fg_lw', 'fg_pct_lw', 'fg3_lw', 'fg3_pct_lw', 'fga_lw', 'fg3a_lw', 'ft_lw', 'fta_lw', \n",
    "                      'fg_sn', 'fg_pct_sn', 'fg3_sn', 'fg3_pct_sn', 'fga_sn', 'fg3a_sn', 'ft_sn', 'fta_sn', \n",
    "                      'last_game', 'mp_lw', 'mp_sn', 'opp_record', 'record', 'plus_minus_lw', 'plus_minus_sn',\n",
    "                      'pts_lw', 'pts_sn', 'score_lw', 'score_sn', 'orb_lw', 'orb_sn', 'tot_game'], \n",
    "               \n",
    "               'fta': ['fg_lw', 'fg_pct_lw', 'fg3_lw', 'fg3_pct_lw', 'fga_lw', 'fg3a_lw', 'ft_lw', 'fta_lw', \n",
    "                       'fg_sn', 'fg_pct_sn', 'fg3_sn', 'fg3_pct_sn', 'fga_sn', 'fg3a_sn', 'ft_sn', 'fta_sn',\n",
    "                       'last_game', 'mp_lw', 'mp_sn', 'opp_record', 'record', 'plus_minus_lw', 'plus_minus_sn',\n",
    "                       'pts_lw', 'pts_sn', 'score_lw', 'score_sn', 'tot_game'], \n",
    "               'pts': ['fg_lw', 'fg_pct_lw', 'fg3_lw', 'fg3_pct_lw', 'fga_lw', 'fg3a_lw', 'ft_lw', 'fta_lw', \n",
    "                      'fg_sn', 'fg_pct_sn', 'fg3_sn', 'fg3_pct_sn', 'fga_sn', 'fg3a_sn', 'ft_sn', 'fta_sn', \n",
    "                      'last_game', 'mp_lw', 'mp_sn', 'opp_record', 'record', 'plus_minus_lw', 'plus_minus_sn',\n",
    "                      'pts_lw', 'pts_sn', 'score_lw', 'score_sn', 'orb_lw', 'orb_sn', 'tot_game', 'stl_lw', \n",
    "                       'stl_sn'],\n",
    "              'ttfl' : ['fg_lw', 'fg_pct_lw', 'fg3_lw', 'fg3_pct_lw', 'fga_lw', 'fg3a_lw', 'ft_lw', 'fta_lw', \n",
    "                      'fg_sn', 'fg_pct_sn', 'fg3_sn', 'fg3_pct_sn', 'fga_sn', 'fg3a_sn', 'ft_sn', 'fta_sn', \n",
    "                      'last_game', 'mp_lw', 'mp_sn', 'opp_record', 'record', 'plus_minus_lw', 'plus_minus_sn',\n",
    "                      'pts_lw', 'pts_sn', 'score_lw', 'score_sn', 'orb_lw', 'orb_sn', 'tot_game', 'stl_lw', \n",
    "                       'stl_sn', 'tov_lw', 'tov_sn', 'drb_lw', 'drb_sn', 'blk_lw', 'blk_sn', 'ast_lw', 'ast_sn']}"
   ]
  },
  {
   "cell_type": "code",
   "execution_count": 197,
   "metadata": {},
   "outputs": [],
   "source": [
    "def linear_regression(df, target, varbls):\n",
    "    y = df[target]\n",
    "    X = df[varbls]\n",
    "    X = MinMaxScaler().fit_transform(X)\n",
    "    X_train, X_test, y_train, y_test = train_test_split(X, y, random_state=1337)\n",
    "    \n",
    "    model = LinearRegression()\n",
    "    model.fit(X_train, y_train)\n",
    "    #training_score = model.score(X_train, y_train)\n",
    "    #testing_score = model.score(X_test, y_test)\n",
    "    y_pred = model.predict(X_test)\n",
    "    return y_test, y_pred"
   ]
  },
  {
   "cell_type": "code",
   "execution_count": 204,
   "metadata": {},
   "outputs": [],
   "source": [
    "def cross_val(df, target, varbls):\n",
    "    y = df[target]\n",
    "    X = df[varbls]\n",
    "    model = LinearRegression()\n",
    "    res = cross_val_score(model, X, y, scoring='neg_mean_absolute_error', cv=5,\n",
    "                          verbose=3, n_jobs=3)\n",
    "    print(res)"
   ]
  },
  {
   "cell_type": "code",
   "execution_count": 201,
   "metadata": {},
   "outputs": [
    {
     "name": "stdout",
     "output_type": "stream",
     "text": [
      "fg 2.6623935283585087 2.072708071178315\n",
      "fga 4.550002788823658 3.5126251762610057\n",
      "fg3 1.2712181843366817 0.9507396235998561\n",
      "fg3a 2.3923143692836577 1.8047155933102663\n",
      "ft 2.105567550439331 1.5621712787295066\n",
      "fta 2.572141646725656 1.9208718003019682\n",
      "pts 6.935890172724784 5.369773633694194\n",
      "ttfl 10.72661745931743 8.378477384241759\n"
     ]
    }
   ],
   "source": [
    "for target, varbls in regressions.items():\n",
    "    res = linear_regression(df, target, varbls)\n",
    "    print(target, np.sqrt(mean_squared_error(res[0], res[1])), mean_absolute_error(res[0], res[1]))"
   ]
  },
  {
   "cell_type": "code",
   "execution_count": 220,
   "metadata": {},
   "outputs": [],
   "source": [
    "def xgb_cv(df, target, varbls):\n",
    "    y = df[target]\n",
    "    X = df[varbls]\n",
    "    X_train, X_test, y_train, y_test = train_test_split(X, y, random_state=1337)\n",
    "    params = {\n",
    "            'min_child_weight': [1, 3, 5],\n",
    "            'gamma': [0.1, 0.2, 0.3, 0.4, 0.5],\n",
    "            'subsample': [0.5, 0.55, 0.6],\n",
    "            'colsample_bytree': [0.4, 0.5, 0.6],\n",
    "            'max_depth': [3, 4, 5],\n",
    "            'reg_alpha': [0.25, 0.5, 0.75, 1.0, 1.25],\n",
    "            'reg_lambda': [0.8, 0.85, 0.9],\n",
    "            'learning_rate': [0.1, 0.15, 0.2]\n",
    "            }\n",
    "\n",
    "    xgb_reg = xgb.XGBRegressor(objective = 'reg:squarederror',\n",
    "                               n_estimators = 200)\n",
    "    folds = 5\n",
    "    param_comb = 10\n",
    "\n",
    "    skf = KFold(n_splits=folds, shuffle = True, random_state = 1001)\n",
    "\n",
    "    random_search = RandomizedSearchCV(xgb_reg, param_distributions=params, \n",
    "                                       n_iter=param_comb, scoring='neg_median_absolute_error',\n",
    "                                       n_jobs=4, cv=skf.split(X_train,y_train), \n",
    "                                       verbose=3, random_state=1001)\n",
    "\n",
    "    # Here we go\n",
    "    # timing starts from this point for \"start_time\" variable\n",
    "    random_search.fit(X_train, y_train)\n",
    "    # timing ends here for \"start_time\" variable\n",
    "    preds = random_search.predict(X_test)\n",
    "    mae = (mean_absolute_error(y_test, preds))\n",
    "    bp = random_search.best_params_\n",
    "    \n",
    "    return mae, bp"
   ]
  },
  {
   "cell_type": "code",
   "execution_count": 221,
   "metadata": {},
   "outputs": [
    {
     "name": "stdout",
     "output_type": "stream",
     "text": [
      "Fitting 5 folds for each of 10 candidates, totalling 50 fits\n"
     ]
    },
    {
     "name": "stderr",
     "output_type": "stream",
     "text": [
      "[Parallel(n_jobs=4)]: Using backend LokyBackend with 4 concurrent workers.\n",
      "[Parallel(n_jobs=4)]: Done  24 tasks      | elapsed:  1.3min\n",
      "[Parallel(n_jobs=4)]: Done  50 out of  50 | elapsed:  2.7min finished\n"
     ]
    },
    {
     "name": "stdout",
     "output_type": "stream",
     "text": [
      "fg (1.9301765188096167, {'subsample': 0.55, 'reg_lambda': 0.9, 'reg_alpha': 0.5, 'min_child_weight': 5, 'max_depth': 4, 'learning_rate': 0.1, 'gamma': 0.5, 'colsample_bytree': 0.6})\n",
      "Fitting 5 folds for each of 10 candidates, totalling 50 fits\n"
     ]
    },
    {
     "name": "stderr",
     "output_type": "stream",
     "text": [
      "[Parallel(n_jobs=4)]: Using backend LokyBackend with 4 concurrent workers.\n",
      "[Parallel(n_jobs=4)]: Done  24 tasks      | elapsed:  1.2min\n",
      "[Parallel(n_jobs=4)]: Done  50 out of  50 | elapsed:  2.4min finished\n",
      "/usr/local/lib/python3.7/site-packages/xgboost/core.py:587: FutureWarning: Series.base is deprecated and will be removed in a future version\n",
      "  if getattr(data, 'base', None) is not None and \\\n"
     ]
    },
    {
     "name": "stdout",
     "output_type": "stream",
     "text": [
      "fga (3.141724048768683, {'subsample': 0.55, 'reg_lambda': 0.9, 'reg_alpha': 0.5, 'min_child_weight': 5, 'max_depth': 4, 'learning_rate': 0.1, 'gamma': 0.5, 'colsample_bytree': 0.6})\n",
      "Fitting 5 folds for each of 10 candidates, totalling 50 fits\n"
     ]
    },
    {
     "name": "stderr",
     "output_type": "stream",
     "text": [
      "[Parallel(n_jobs=4)]: Using backend LokyBackend with 4 concurrent workers.\n",
      "[Parallel(n_jobs=4)]: Done  24 tasks      | elapsed:  1.2min\n",
      "[Parallel(n_jobs=4)]: Done  50 out of  50 | elapsed:  2.5min finished\n",
      "/usr/local/lib/python3.7/site-packages/xgboost/core.py:587: FutureWarning: Series.base is deprecated and will be removed in a future version\n",
      "  if getattr(data, 'base', None) is not None and \\\n"
     ]
    },
    {
     "name": "stdout",
     "output_type": "stream",
     "text": [
      "fg3 (0.8885007595043791, {'subsample': 0.6, 'reg_lambda': 0.8, 'reg_alpha': 1.25, 'min_child_weight': 5, 'max_depth': 4, 'learning_rate': 0.15, 'gamma': 0.5, 'colsample_bytree': 0.6})\n",
      "Fitting 5 folds for each of 10 candidates, totalling 50 fits\n"
     ]
    },
    {
     "name": "stderr",
     "output_type": "stream",
     "text": [
      "[Parallel(n_jobs=4)]: Using backend LokyBackend with 4 concurrent workers.\n",
      "[Parallel(n_jobs=4)]: Done  24 tasks      | elapsed:  1.1min\n",
      "[Parallel(n_jobs=4)]: Done  50 out of  50 | elapsed:  2.3min finished\n",
      "/usr/local/lib/python3.7/site-packages/xgboost/core.py:587: FutureWarning: Series.base is deprecated and will be removed in a future version\n",
      "  if getattr(data, 'base', None) is not None and \\\n"
     ]
    },
    {
     "name": "stdout",
     "output_type": "stream",
     "text": [
      "fg3a (1.5475739142156175, {'subsample': 0.55, 'reg_lambda': 0.9, 'reg_alpha': 0.5, 'min_child_weight': 5, 'max_depth': 4, 'learning_rate': 0.1, 'gamma': 0.5, 'colsample_bytree': 0.6})\n",
      "Fitting 5 folds for each of 10 candidates, totalling 50 fits\n"
     ]
    },
    {
     "name": "stderr",
     "output_type": "stream",
     "text": [
      "[Parallel(n_jobs=4)]: Using backend LokyBackend with 4 concurrent workers.\n",
      "[Parallel(n_jobs=4)]: Done  24 tasks      | elapsed:  1.1min\n",
      "[Parallel(n_jobs=4)]: Done  50 out of  50 | elapsed:  2.7min finished\n",
      "/usr/local/lib/python3.7/site-packages/xgboost/core.py:587: FutureWarning: Series.base is deprecated and will be removed in a future version\n",
      "  if getattr(data, 'base', None) is not None and \\\n"
     ]
    },
    {
     "name": "stdout",
     "output_type": "stream",
     "text": [
      "ft (1.4991306990576505, {'subsample': 0.55, 'reg_lambda': 0.9, 'reg_alpha': 0.5, 'min_child_weight': 5, 'max_depth': 4, 'learning_rate': 0.1, 'gamma': 0.5, 'colsample_bytree': 0.6})\n",
      "Fitting 5 folds for each of 10 candidates, totalling 50 fits\n"
     ]
    },
    {
     "name": "stderr",
     "output_type": "stream",
     "text": [
      "[Parallel(n_jobs=4)]: Using backend LokyBackend with 4 concurrent workers.\n",
      "[Parallel(n_jobs=4)]: Done  24 tasks      | elapsed:  1.2min\n",
      "[Parallel(n_jobs=4)]: Done  50 out of  50 | elapsed:  2.2min finished\n",
      "/usr/local/lib/python3.7/site-packages/xgboost/core.py:587: FutureWarning: Series.base is deprecated and will be removed in a future version\n",
      "  if getattr(data, 'base', None) is not None and \\\n"
     ]
    },
    {
     "name": "stdout",
     "output_type": "stream",
     "text": [
      "fta (1.863740576831338, {'subsample': 0.5, 'reg_lambda': 0.8, 'reg_alpha': 0.75, 'min_child_weight': 3, 'max_depth': 3, 'learning_rate': 0.15, 'gamma': 0.4, 'colsample_bytree': 0.5})\n",
      "Fitting 5 folds for each of 10 candidates, totalling 50 fits\n"
     ]
    },
    {
     "name": "stderr",
     "output_type": "stream",
     "text": [
      "[Parallel(n_jobs=4)]: Using backend LokyBackend with 4 concurrent workers.\n",
      "[Parallel(n_jobs=4)]: Done  24 tasks      | elapsed:  1.2min\n",
      "[Parallel(n_jobs=4)]: Done  50 out of  50 | elapsed:  2.5min finished\n",
      "/usr/local/lib/python3.7/site-packages/xgboost/core.py:587: FutureWarning: Series.base is deprecated and will be removed in a future version\n",
      "  if getattr(data, 'base', None) is not None and \\\n"
     ]
    },
    {
     "name": "stdout",
     "output_type": "stream",
     "text": [
      "pts (4.950069867866878, {'subsample': 0.55, 'reg_lambda': 0.9, 'reg_alpha': 0.5, 'min_child_weight': 5, 'max_depth': 4, 'learning_rate': 0.1, 'gamma': 0.5, 'colsample_bytree': 0.6})\n",
      "Fitting 5 folds for each of 10 candidates, totalling 50 fits\n"
     ]
    },
    {
     "name": "stderr",
     "output_type": "stream",
     "text": [
      "[Parallel(n_jobs=4)]: Using backend LokyBackend with 4 concurrent workers.\n",
      "[Parallel(n_jobs=4)]: Done  24 tasks      | elapsed:  1.4min\n",
      "[Parallel(n_jobs=4)]: Done  50 out of  50 | elapsed:  2.9min finished\n",
      "/usr/local/lib/python3.7/site-packages/xgboost/core.py:587: FutureWarning: Series.base is deprecated and will be removed in a future version\n",
      "  if getattr(data, 'base', None) is not None and \\\n"
     ]
    },
    {
     "name": "stdout",
     "output_type": "stream",
     "text": [
      "ttfl (8.070026224974987, {'subsample': 0.6, 'reg_lambda': 0.8, 'reg_alpha': 0.25, 'min_child_weight': 5, 'max_depth': 4, 'learning_rate': 0.1, 'gamma': 0.1, 'colsample_bytree': 0.4})\n"
     ]
    }
   ],
   "source": [
    "for target, varbls in regressions.items():\n",
    "    res = xgb_cv(df, target, varbls)\n",
    "    print(target, res)"
   ]
  },
  {
   "cell_type": "code",
   "execution_count": 225,
   "metadata": {},
   "outputs": [
    {
     "name": "stderr",
     "output_type": "stream",
     "text": [
      "/usr/local/lib/python3.7/site-packages/xgboost/core.py:587: FutureWarning: Series.base is deprecated and will be removed in a future version\n",
      "  if getattr(data, 'base', None) is not None and \\\n"
     ]
    },
    {
     "name": "stdout",
     "output_type": "stream",
     "text": [
      "[16:03:42] WARNING: src/objective/regression_obj.cu:152: reg:linear is now deprecated in favor of reg:squarederror.\n"
     ]
    },
    {
     "data": {
      "text/plain": [
       "XGBRegressor(base_score=0.5, booster='gbtree', colsample_bylevel=1,\n",
       "             colsample_bynode=1, colsample_bytree=0.4, gamma=0.1,\n",
       "             importance_type='gain', learning_rate=0.1, max_delta_step=0,\n",
       "             max_depth=4, min_child_weight=5, missing=None, n_estimators=2200,\n",
       "             n_jobs=1, nthread=-1, objective='reg:linear', random_state=7,\n",
       "             reg_alpha=0.25, reg_lambda=0.8, scale_pos_weight=1, seed=None,\n",
       "             silent=None, subsample=0.6, verbosity=1)"
      ]
     },
     "execution_count": 225,
     "metadata": {},
     "output_type": "execute_result"
    }
   ],
   "source": [
    "X = df[regressions['ttfl']]\n",
    "y = df['ttfl']\n",
    "X_train, X_test, y_train, y_test = train_test_split(X, y, random_state=1337)\n",
    "model_xgb = xgb.XGBRegressor(n_estimators=2200,\n",
    "                             random_state =7, nthread = -1, **res[1])\n",
    "model_xgb.fit(X_train, y_train)"
   ]
  },
  {
   "cell_type": "code",
   "execution_count": 227,
   "metadata": {},
   "outputs": [
    {
     "data": {
      "text/plain": [
       "8.284187827846946"
      ]
     },
     "execution_count": 227,
     "metadata": {},
     "output_type": "execute_result"
    }
   ],
   "source": [
    "preds = model_xgb.predict(X_test)\n",
    "mean_absolute_error(y_test, preds)"
   ]
  },
  {
   "cell_type": "code",
   "execution_count": 244,
   "metadata": {},
   "outputs": [
    {
     "data": {
      "image/png": "[encoded data removed]",
      "text/plain": [
       "<Figure size 1080x720 with 1 Axes>"
      ]
     },
     "metadata": {
      "needs_background": "light"
     },
     "output_type": "display_data"
    }
   ],
   "source": [
    "pd.Series(model_xgb.feature_importances_, index = varbls).sort_values().plot(kind = \"barh\", figsize=(15,10) ,title='Top Features')\n",
    "plt.show()"
   ]
  },
  {
   "cell_type": "code",
   "execution_count": null,
   "metadata": {},
   "outputs": [],
   "source": [
    "class xgb():\n",
    "    def __init__(self):\n",
    "        self"
   ]
  }
 ],
 "metadata": {
  "kernelspec": {
   "display_name": "Python 3",
   "language": "python",
   "name": "python3"
  },
  "language_info": {
   "codemirror_mode": {
    "name": "ipython",
    "version": 3
   },
   "file_extension": ".py",
   "mimetype": "text/x-python",
   "name": "python",
   "nbconvert_exporter": "python",
   "pygments_lexer": "ipython3",
   "version": "3.7.4"
  }
 },
 "nbformat": 4,
 "nbformat_minor": 4
}
